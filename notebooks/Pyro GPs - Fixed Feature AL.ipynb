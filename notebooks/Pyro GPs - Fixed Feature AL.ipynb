{
 "cells": [
  {
   "cell_type": "code",
   "execution_count": 1,
   "metadata": {},
   "outputs": [],
   "source": [
    "import torchvision\n",
    "import torch\n",
    "from torchvision import transforms\n",
    "import torchvision.utils as vutils\n",
    "import numpy as np\n",
    "import matplotlib.pyplot as plt\n",
    "\n",
    "import pyro\n",
    "import pyro.contrib.gp as gp\n",
    "import pyro.distributions as dist"
   ]
  },
  {
   "cell_type": "code",
   "execution_count": 2,
   "metadata": {},
   "outputs": [],
   "source": [
    "transformations = transforms.Compose([\n",
    "    transforms.CenterCrop(255),\n",
    "    transforms.Resize(100),\n",
    "    transforms.ToTensor()])\n",
    "\n",
    "voc_data = torchvision.datasets.Cityscapes('data', split=\"train\", mode=\"fine\", target_type=\"semantic\",\n",
    "                                           transform=transformations, target_transform=transformations)\n",
    "data_loader = torch.utils.data.DataLoader(voc_data,batch_size=32,shuffle=True)"
   ]
  },
  {
   "cell_type": "code",
   "execution_count": 3,
   "metadata": {},
   "outputs": [],
   "source": [
    "def get_features(image, seg):\n",
    "    \n",
    "    image = np.transpose(image,(1,2,0))\n",
    "    nrows, ncols, nchan = image.shape\n",
    "    features = np.zeros((nrows*ncols, nchan+2))\n",
    "    y = np.zeros((nrows*ncols))\n",
    "    count = 0\n",
    "    for i in range(nrows):\n",
    "        for j in range(ncols):\n",
    "            colors = image[i, j, :]\n",
    "            features[count, :] = [colors[0], colors[1], colors[2], i/100, j/100]\n",
    "            #features[count, :] = [i, j]\n",
    "            y[count] = seg[0, i, j]\n",
    "            count = count + 1\n",
    "    return features/np.max(features), y"
   ]
  },
  {
   "cell_type": "code",
   "execution_count": 4,
   "metadata": {},
   "outputs": [],
   "source": [
    "def get_least_confident(X, y, cov):\n",
    "    lc_i = np.argmax(cov)\n",
    "    conf = cov[lc_i]\n",
    "    lc_x = X[lc_i, :]\n",
    "    lc_y = y[lc_i]\n",
    "    return lc_x, lc_y, conf"
   ]
  },
  {
   "cell_type": "code",
   "execution_count": 7,
   "metadata": {},
   "outputs": [],
   "source": [
    "from sklearn.model_selection import train_test_split"
   ]
  },
  {
   "cell_type": "code",
   "execution_count": null,
   "metadata": {},
   "outputs": [
    {
     "name": "stdout",
     "output_type": "stream",
     "text": [
      "0\n",
      "1\n"
     ]
    }
   ],
   "source": [
    "n = 1000\n",
    "total = 0.0\n",
    "for i in range(100):\n",
    "    one, two = voc_data.__getitem__(i)\n",
    "    X, y = get_features(one.numpy(), two.numpy())\n",
    "    y = np.round((y/np.min(y)))\n",
    "    X_train, X_test, y_train, y_test = train_test_split(X, y, train_size=1)\n",
    "    kernel = gp.kernels.RBF(input_dim=5, variance=torch.tensor(1.),\n",
    "                            lengthscale=torch.tensor(10.))\n",
    "    gpr = gp.models.GPRegression(torch.from_numpy(X_train).float(), \n",
    "                                 torch.from_numpy(y_train).float(), kernel, noise=torch.tensor(1.))\n",
    "    optimizer = torch.optim.Adam(gpr.parameters(), lr=0.005)\n",
    "    loss_fn = pyro.infer.Trace_ELBO().differentiable_loss\n",
    "    losses = []\n",
    "    num_samples = n\n",
    "    num_steps = 2\n",
    "    for i in range(num_samples):\n",
    "        gpr.set_data(torch.from_numpy(X_train).float(), torch.from_numpy(y_train).float())\n",
    "        for j in range(num_steps):\n",
    "            optimizer.zero_grad()\n",
    "            loss = loss_fn(gpr.model, gpr.guide)\n",
    "            loss.backward()\n",
    "            optimizer.step()\n",
    "            losses.append(loss.item())\n",
    "            #print(j, loss.item())\n",
    "        mean, cov = gpr(torch.from_numpy(X).float())\n",
    "        next_x, next_y, conf = get_least_confident(X, y, cov.detach().float())\n",
    "        X_train = np.vstack([X_train, next_x])\n",
    "        y_train = np.append(y_train, next_y)\n",
    "    loss = np.mean((mean.detach().numpy()-y)**2)\n",
    "    total += loss\n",
    "print(loss/10)"
   ]
  },
  {
   "cell_type": "code",
   "execution_count": 28,
   "metadata": {},
   "outputs": [
    {
     "data": {
      "text/plain": [
       "[<matplotlib.lines.Line2D at 0x11e2ba790>]"
      ]
     },
     "execution_count": 28,
     "metadata": {},
     "output_type": "execute_result"
    },
    {
     "data": {
      "image/png": "[encoded data removed]",
      "text/plain": [
       "<Figure size 432x288 with 1 Axes>"
      ]
     },
     "metadata": {
      "needs_background": "light"
     },
     "output_type": "display_data"
    }
   ],
   "source": [
    "plt.plot(range(num_steps*num_samples), losses)"
   ]
  },
  {
   "cell_type": "code",
   "execution_count": 10,
   "metadata": {},
   "outputs": [
    {
     "data": {
      "text/plain": [
       "<matplotlib.image.AxesImage at 0x1a222f9950>"
      ]
     },
     "execution_count": 10,
     "metadata": {},
     "output_type": "execute_result"
    },
    {
     "data": {
      "image/png": "[encoded data removed]",
      "text/plain": [
       "<Figure size 432x288 with 1 Axes>"
      ]
     },
     "metadata": {
      "needs_background": "light"
     },
     "output_type": "display_data"
    }
   ],
   "source": [
    "plt.imshow(y.reshape(100, 100))"
   ]
  }
 ],
 "metadata": {
  "kernelspec": {
   "display_name": "Python 3",
   "language": "python",
   "name": "python3"
  },
  "language_info": {
   "codemirror_mode": {
    "name": "ipython",
    "version": 3
   },
   "file_extension": ".py",
   "mimetype": "text/x-python",
   "name": "python",
   "nbconvert_exporter": "python",
   "pygments_lexer": "ipython3",
   "version": "3.6.8"
  }
 },
 "nbformat": 4,
 "nbformat_minor": 2
}
